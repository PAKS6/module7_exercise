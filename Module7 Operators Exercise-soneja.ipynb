{
 "cells": [
  {
   "cell_type": "markdown",
   "metadata": {},
   "source": [
    "### Exercise 1\n",
    "Ask a user to enter a number. If the number is positive, print <b>Positive number</b>. Otherwise, do not print any message. Finally, print 'goodbye' message at the end."
   ]
  },
  {
   "cell_type": "code",
   "execution_count": 3,
   "metadata": {},
   "outputs": [
    {
     "name": "stdout",
     "output_type": "stream",
     "text": [
      "Enter a number  65\n",
      "The number is positive.\n",
      "Goodbye\n"
     ]
    }
   ],
   "source": [
    "numb = int (input(\"Enter a number  \"))\n",
    "if (numb > 0):\n",
    "    print (f\"The number is positive.\")\n",
    "    print(\"Goodbye\")"
   ]
  },
  {
   "cell_type": "code",
   "execution_count": null,
   "metadata": {},
   "outputs": [],
   "source": []
  },
  {
   "cell_type": "markdown",
   "metadata": {},
   "source": [
    "### Exercise 2\n",
    "Ask for a code and store that answer. \n",
    "If the answer is grey then print out if you found secret code.\n",
    "Otherwise print out the code is not the secret code."
   ]
  },
  {
   "cell_type": "code",
   "execution_count": 26,
   "metadata": {},
   "outputs": [
    {
     "name": "stdout",
     "output_type": "stream",
     "text": [
      "Please enter the code  blue\n",
      "The code is not the secret code.\n"
     ]
    }
   ],
   "source": [
    "code = input(\"Please enter the code  \")\n",
    "key = \"grey\"\n",
    "if (key ==code):\n",
    "    print(f\"You found the code.\")\n",
    "else:\n",
    "    print (f\"The code is not the secret code.\")"
   ]
  },
  {
   "cell_type": "code",
   "execution_count": null,
   "metadata": {},
   "outputs": [],
   "source": []
  },
  {
   "cell_type": "markdown",
   "metadata": {},
   "source": [
    "### Exercise 3\n",
    "\n",
    "Ask a user to enter a phrase. If the word contains a number, display the \"Number found\" message. Otherwise, show the \"Number not found\" message. "
   ]
  },
  {
   "cell_type": "code",
   "execution_count": 12,
   "metadata": {},
   "outputs": [
    {
     "name": "stdout",
     "output_type": "stream",
     "text": [
      "Enter the phrase  ert56\n",
      "Number found\n"
     ]
    }
   ],
   "source": [
    "phrase = input(\"Enter the phrase  \")\n",
    "if (\"1\" in phrase\n",
    "    or \"2\" in phrase \n",
    "    or \"3\" in phrase \n",
    "    or \"4\" in phrase \n",
    "    or \"5\" in phrase\n",
    "    or \"6\" in phrase\n",
    "    or \"7\" in phrase\n",
    "    or \"8\" in phrase\n",
    "    or \"9\" in phrase\n",
    "    or \"0\" in phrase):\n",
    "    print(f\"Number found\")\n",
    "else:\n",
    "    print(f\"Number not found\")\n",
    "\n"
   ]
  },
  {
   "cell_type": "markdown",
   "metadata": {},
   "source": [
    "### Exercise 4\n",
    "\n",
    "Ask a user to enter a number. Then, only if the number is divisible by 2 and 3, show the result of the number divided by two and three in a formated string. The output should look something like this:\n",
    "        \n",
    "    Enter a number: 2\n",
    "    Bye    \n",
    "    \n",
    "    Enter a number: 60\n",
    "    60 / 2 = 30.0\n",
    "    60 / 3 = 20.0\n",
    "    Bye\n",
    "    \n",
    "    Enter a number: 3\n",
    "    Bye\n",
    "    \n",
    "    Enter a number: 10\n",
    "    Bye    "
   ]
  },
  {
   "cell_type": "code",
   "execution_count": 20,
   "metadata": {},
   "outputs": [
    {
     "name": "stdout",
     "output_type": "stream",
     "text": [
      "please enter the number:  42\n",
      "42 / 2 = 21.0\n",
      "42 / 2 = 14.0\n",
      "Bye\n"
     ]
    }
   ],
   "source": [
    "numb = int(input(\"please enter the number:  \"))\n",
    "if ((numb % 2) == 0) and ((numb % 3) == 0):\n",
    "    x = (numb/2)\n",
    "    y = (numb/3)\n",
    "    print(f\"{numb} / 2 = {x}\")\n",
    "    print(f\"{numb} / 2 = {y}\")\n",
    "    print(\"Bye\")\n",
    "else:\n",
    "    print(\"Bye\")\n"
   ]
  },
  {
   "cell_type": "code",
   "execution_count": null,
   "metadata": {},
   "outputs": [],
   "source": []
  },
  {
   "cell_type": "markdown",
   "metadata": {},
   "source": [
    "### Exercise 5\n",
    "Ask a user to enter a number. Determine if the number is zero, positive or negative. Use only <b>if</b> and <b>else</b> statements. \n",
    "    "
   ]
  },
  {
   "cell_type": "code",
   "execution_count": 24,
   "metadata": {},
   "outputs": [
    {
     "name": "stdout",
     "output_type": "stream",
     "text": [
      "Please enter the number:  0\n",
      "The number is zero.\n"
     ]
    }
   ],
   "source": [
    "numb = float (input(\"Please enter the number:  \"))\n",
    "if (numb < 0.0):\n",
    "    print(f\"The number is negative number.\")\n",
    "elif (numb == 0.0):\n",
    "    print(f\"The number is zero.\")\n",
    "else:\n",
    "    print(f\"The number is a positive number.\")"
   ]
  },
  {
   "cell_type": "code",
   "execution_count": null,
   "metadata": {},
   "outputs": [],
   "source": []
  }
 ],
 "metadata": {
  "kernelspec": {
   "display_name": "Python 3 (ipykernel)",
   "language": "python",
   "name": "python3"
  },
  "language_info": {
   "codemirror_mode": {
    "name": "ipython",
    "version": 3
   },
   "file_extension": ".py",
   "mimetype": "text/x-python",
   "name": "python",
   "nbconvert_exporter": "python",
   "pygments_lexer": "ipython3",
   "version": "3.9.7"
  }
 },
 "nbformat": 4,
 "nbformat_minor": 4
}
